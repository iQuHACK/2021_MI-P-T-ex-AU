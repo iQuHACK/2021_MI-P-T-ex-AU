{
 "cells": [
  {
   "cell_type": "code",
   "execution_count": 8,
   "metadata": {},
   "outputs": [],
   "source": [
    "import quantum_logic\n",
    "from importlib import reload\n",
    "from qiskit.visualization import plot_histogram"
   ]
  },
  {
   "cell_type": "code",
   "execution_count": 73,
   "metadata": {},
   "outputs": [
    {
     "data": {
      "text/plain": [
       "<module 'quantum_logic' from '/run/media/sergei/37FDB1610F9D18DB/QiHack/New Folder/2021_MI-P-T-ex-AU/quantum_logic.py'>"
      ]
     },
     "execution_count": 73,
     "metadata": {},
     "output_type": "execute_result"
    }
   ],
   "source": [
    "    reload(quantum_logic)"
   ]
  },
  {
   "cell_type": "code",
   "execution_count": 9,
   "metadata": {},
   "outputs": [],
   "source": [
    "qc =   quantum_logic.QuantumCircuits()"
   ]
  },
  {
   "cell_type": "code",
   "execution_count": 10,
   "metadata": {},
   "outputs": [
    {
     "ename": "AttributeError",
     "evalue": "'int' object has no attribute 'nqubits'",
     "output_type": "error",
     "traceback": [
      "\u001b[0;31m---------------------------------------------------------------------------\u001b[0m",
      "\u001b[0;31mAttributeError\u001b[0m                            Traceback (most recent call last)",
      "\u001b[0;32m<ipython-input-10-3cea916bbc06>\u001b[0m in \u001b[0;36m<module>\u001b[0;34m\u001b[0m\n\u001b[0;32m----> 1\u001b[0;31m \u001b[0mqc\u001b[0m\u001b[0;34m.\u001b[0m\u001b[0mcreate_psi\u001b[0m\u001b[0;34m(\u001b[0m\u001b[0;36m3\u001b[0m\u001b[0;34m,\u001b[0m\u001b[0;36m2\u001b[0m\u001b[0;34m)\u001b[0m\u001b[0;34m\u001b[0m\u001b[0;34m\u001b[0m\u001b[0m\n\u001b[0m\u001b[1;32m      2\u001b[0m \u001b[0mqc\u001b[0m\u001b[0;34m.\u001b[0m\u001b[0mpossible_psi\u001b[0m\u001b[0;34m\u001b[0m\u001b[0;34m\u001b[0m\u001b[0m\n",
      "\u001b[0;32m/run/media/sergei/37FDB1610F9D18DB/QiHack/New Folder/2021_MI-P-T-ex-AU/quantum_logic.py\u001b[0m in \u001b[0;36mcreate_psi\u001b[0;34m(self, ships, qset)\u001b[0m\n\u001b[1;32m     14\u001b[0m \u001b[0;34m\u001b[0m\u001b[0m\n\u001b[1;32m     15\u001b[0m     \u001b[0;32mdef\u001b[0m \u001b[0mcreate_psi\u001b[0m\u001b[0;34m(\u001b[0m\u001b[0mself\u001b[0m\u001b[0;34m,\u001b[0m \u001b[0mships\u001b[0m\u001b[0;34m,\u001b[0m \u001b[0mqset\u001b[0m\u001b[0;34m)\u001b[0m \u001b[0;34m->\u001b[0m \u001b[0mList\u001b[0m\u001b[0;34m[\u001b[0m\u001b[0mstr\u001b[0m\u001b[0;34m]\u001b[0m\u001b[0;34m:\u001b[0m\u001b[0;34m\u001b[0m\u001b[0;34m\u001b[0m\u001b[0m\n\u001b[0;32m---> 16\u001b[0;31m         \u001b[0mself\u001b[0m\u001b[0;34m.\u001b[0m\u001b[0mnqubits\u001b[0m \u001b[0;34m=\u001b[0m \u001b[0mqset\u001b[0m\u001b[0;34m.\u001b[0m\u001b[0mnqubits\u001b[0m\u001b[0;34m\u001b[0m\u001b[0;34m\u001b[0m\u001b[0m\n\u001b[0m\u001b[1;32m     17\u001b[0m         \u001b[0mself\u001b[0m\u001b[0;34m.\u001b[0m\u001b[0mintersection_ids\u001b[0m \u001b[0;34m=\u001b[0m \u001b[0mqset\u001b[0m\u001b[0;34m.\u001b[0m\u001b[0mintersection_ids\u001b[0m\u001b[0;34m\u001b[0m\u001b[0;34m\u001b[0m\u001b[0m\n\u001b[1;32m     18\u001b[0m         \u001b[0mself\u001b[0m\u001b[0;34m.\u001b[0m\u001b[0mpossible_psi\u001b[0m \u001b[0;34m=\u001b[0m \u001b[0;34m[\u001b[0m\u001b[0mself\u001b[0m\u001b[0;34m.\u001b[0m\u001b[0mmy_bin\u001b[0m\u001b[0;34m(\u001b[0m\u001b[0mi\u001b[0m\u001b[0;34m,\u001b[0m\u001b[0mself\u001b[0m\u001b[0;34m.\u001b[0m\u001b[0mnqubits\u001b[0m\u001b[0;34m)\u001b[0m \u001b[0;32mfor\u001b[0m \u001b[0mi\u001b[0m \u001b[0;32min\u001b[0m \u001b[0mnp\u001b[0m\u001b[0;34m.\u001b[0m\u001b[0marange\u001b[0m\u001b[0;34m(\u001b[0m\u001b[0;36m2\u001b[0m\u001b[0;34m**\u001b[0m\u001b[0mself\u001b[0m\u001b[0;34m.\u001b[0m\u001b[0mnqubits\u001b[0m\u001b[0;34m)\u001b[0m\u001b[0;34m]\u001b[0m\u001b[0;34m\u001b[0m\u001b[0;34m\u001b[0m\u001b[0m\n",
      "\u001b[0;31mAttributeError\u001b[0m: 'int' object has no attribute 'nqubits'"
     ]
    }
   ],
   "source": [
    "for\n",
    "\n",
    "qc.create_psi(3,2)\n",
    "qc.possible_psi"
   ]
  },
  {
   "cell_type": "code",
   "execution_count": 79,
   "metadata": {},
   "outputs": [
    {
     "data": {
      "text/html": [
       "<pre style=\"word-wrap: normal;white-space: pre;background: #fff0;line-height: 1.1;font-family: &quot;Courier New&quot;,Courier,monospace\">       ┌───┐┌───┐     ┌───┐                              ┌─┐   \n",
       "q15_0: ┤ H ├┤ X ├──■──┤ X ├──■─────────■─────────■───────┤M├───\n",
       "       └───┘└───┘┌─┴─┐└───┘  │  ┌───┐  │  ┌───┐  │  ┌───┐└╥┘┌─┐\n",
       "q15_1: ──────────┤ X ├───────┼──┤ H ├──┼──┤ X ├──■──┤ X ├─╫─┤M├\n",
       "                 └───┘       │  └─┬─┘  │  └───┘┌─┴─┐└┬─┬┘ ║ └╥┘\n",
       "q15_2: ──────────────────────┼────┼────┼───────┤ X ├─┤M├──╫──╫─\n",
       "                           ┌─┴─┐  │  ┌─┴─┐     └───┘ └╥┘  ║  ║ \n",
       "aux_0: ────────────────────┤ X ├──■──┤ X ├────────────╫───╫──╫─\n",
       "                           └───┘     └───┘            ║   ║  ║ \n",
       "c15_0: ═══════════════════════════════════════════════╬═══╩══╬═\n",
       "                                                      ║      ║ \n",
       "c15_1: ═══════════════════════════════════════════════╬══════╩═\n",
       "                                                      ║        \n",
       "c15_2: ═══════════════════════════════════════════════╩════════\n",
       "                                                               </pre>"
      ],
      "text/plain": [
       "       ┌───┐┌───┐     ┌───┐                              ┌─┐   \n",
       "q15_0: ┤ H ├┤ X ├──■──┤ X ├──■─────────■─────────■───────┤M├───\n",
       "       └───┘└───┘┌─┴─┐└───┘  │  ┌───┐  │  ┌───┐  │  ┌───┐└╥┘┌─┐\n",
       "q15_1: ──────────┤ X ├───────┼──┤ H ├──┼──┤ X ├──■──┤ X ├─╫─┤M├\n",
       "                 └───┘       │  └─┬─┘  │  └───┘┌─┴─┐└┬─┬┘ ║ └╥┘\n",
       "q15_2: ──────────────────────┼────┼────┼───────┤ X ├─┤M├──╫──╫─\n",
       "                           ┌─┴─┐  │  ┌─┴─┐     └───┘ └╥┘  ║  ║ \n",
       "aux_0: ────────────────────┤ X ├──■──┤ X ├────────────╫───╫──╫─\n",
       "                           └───┘     └───┘            ║   ║  ║ \n",
       "c15_0: ═══════════════════════════════════════════════╬═══╩══╬═\n",
       "                                                      ║      ║ \n",
       "c15_1: ═══════════════════════════════════════════════╬══════╩═\n",
       "                                                      ║        \n",
       "c15_2: ═══════════════════════════════════════════════╩════════\n",
       "                                                               "
      ]
     },
     "execution_count": 79,
     "metadata": {},
     "output_type": "execute_result"
    }
   ],
   "source": [
    "qc.create_qc()\n",
    "qc.qc.draw()"
   ]
  },
  {
   "cell_type": "code",
   "execution_count": 80,
   "metadata": {},
   "outputs": [
    {
     "data": {
      "text/plain": [
       "3"
      ]
     },
     "execution_count": 80,
     "metadata": {},
     "output_type": "execute_result"
    }
   ],
   "source": [
    "qc.nqubits "
   ]
  },
  {
   "cell_type": "code",
   "execution_count": 85,
   "metadata": {},
   "outputs": [
    {
     "data": {
      "image/png": "[encoded data removed]",
      "text/plain": [
       "<Figure size 504x360 with 1 Axes>"
      ]
     },
     "execution_count": 85,
     "metadata": {},
     "output_type": "execute_result"
    }
   ],
   "source": [
    "qc.run_qc()\n",
    "plot_histogram(qc.count)"
   ]
  }
 ],
 "metadata": {
  "kernelspec": {
   "display_name": "Python 3",
   "language": "python",
   "name": "python3"
  },
  "language_info": {
   "codemirror_mode": {
    "name": "ipython",
    "version": 3
   },
   "file_extension": ".py",
   "mimetype": "text/x-python",
   "name": "python",
   "nbconvert_exporter": "python",
   "pygments_lexer": "ipython3",
   "version": "3.6.10"
  }
 },
 "nbformat": 4,
 "nbformat_minor": 4
}
