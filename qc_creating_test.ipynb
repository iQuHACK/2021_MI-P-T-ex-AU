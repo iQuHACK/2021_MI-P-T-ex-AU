{
 "cells": [
  {
   "cell_type": "code",
   "execution_count": 1,
   "metadata": {},
   "outputs": [],
   "source": [
    "import quantum_logic\n",
    "from importlib import reload\n"
   ]
  },
  {
   "cell_type": "code",
   "execution_count": null,
   "metadata": {},
   "outputs": [],
   "source": []
  },
  {
   "cell_type": "code",
   "execution_count": 14,
   "metadata": {},
   "outputs": [
    {
     "data": {
      "text/plain": [
       "<module 'quantum_logic' from '/run/media/sergei/37FDB1610F9D18DB/QiHack/New Folder/2021_MI-P-T-ex-AU/quantum_logic.py'>"
      ]
     },
     "execution_count": 14,
     "metadata": {},
     "output_type": "execute_result"
    }
   ],
   "source": [
    "    reload(quantum_logic)"
   ]
  },
  {
   "cell_type": "code",
   "execution_count": 9,
   "metadata": {},
   "outputs": [],
   "source": [
    "qc =   quantum_logic.QuantumCircuits()"
   ]
  },
  {
   "cell_type": "code",
   "execution_count": 10,
   "metadata": {},
   "outputs": [
    {
     "ename": "AttributeError",
     "evalue": "'int' object has no attribute 'nqubits'",
     "output_type": "error",
     "traceback": [
      "\u001b[0;31m---------------------------------------------------------------------------\u001b[0m",
      "\u001b[0;31mAttributeError\u001b[0m                            Traceback (most recent call last)",
      "\u001b[0;32m<ipython-input-10-3cea916bbc06>\u001b[0m in \u001b[0;36m<module>\u001b[0;34m\u001b[0m\n\u001b[0;32m----> 1\u001b[0;31m \u001b[0mqc\u001b[0m\u001b[0;34m.\u001b[0m\u001b[0mcreate_psi\u001b[0m\u001b[0;34m(\u001b[0m\u001b[0;36m3\u001b[0m\u001b[0;34m,\u001b[0m\u001b[0;36m2\u001b[0m\u001b[0;34m)\u001b[0m\u001b[0;34m\u001b[0m\u001b[0;34m\u001b[0m\u001b[0m\n\u001b[0m\u001b[1;32m      2\u001b[0m \u001b[0mqc\u001b[0m\u001b[0;34m.\u001b[0m\u001b[0mpossible_psi\u001b[0m\u001b[0;34m\u001b[0m\u001b[0;34m\u001b[0m\u001b[0m\n",
      "\u001b[0;32m/run/media/sergei/37FDB1610F9D18DB/QiHack/New Folder/2021_MI-P-T-ex-AU/quantum_logic.py\u001b[0m in \u001b[0;36mcreate_psi\u001b[0;34m(self, ships, qset)\u001b[0m\n\u001b[1;32m     14\u001b[0m \u001b[0;34m\u001b[0m\u001b[0m\n\u001b[1;32m     15\u001b[0m     \u001b[0;32mdef\u001b[0m \u001b[0mcreate_psi\u001b[0m\u001b[0;34m(\u001b[0m\u001b[0mself\u001b[0m\u001b[0;34m,\u001b[0m \u001b[0mships\u001b[0m\u001b[0;34m,\u001b[0m \u001b[0mqset\u001b[0m\u001b[0;34m)\u001b[0m \u001b[0;34m->\u001b[0m \u001b[0mList\u001b[0m\u001b[0;34m[\u001b[0m\u001b[0mstr\u001b[0m\u001b[0;34m]\u001b[0m\u001b[0;34m:\u001b[0m\u001b[0;34m\u001b[0m\u001b[0;34m\u001b[0m\u001b[0m\n\u001b[0;32m---> 16\u001b[0;31m         \u001b[0mself\u001b[0m\u001b[0;34m.\u001b[0m\u001b[0mnqubits\u001b[0m \u001b[0;34m=\u001b[0m \u001b[0mqset\u001b[0m\u001b[0;34m.\u001b[0m\u001b[0mnqubits\u001b[0m\u001b[0;34m\u001b[0m\u001b[0;34m\u001b[0m\u001b[0m\n\u001b[0m\u001b[1;32m     17\u001b[0m         \u001b[0mself\u001b[0m\u001b[0;34m.\u001b[0m\u001b[0mintersection_ids\u001b[0m \u001b[0;34m=\u001b[0m \u001b[0mqset\u001b[0m\u001b[0;34m.\u001b[0m\u001b[0mintersection_ids\u001b[0m\u001b[0;34m\u001b[0m\u001b[0;34m\u001b[0m\u001b[0m\n\u001b[1;32m     18\u001b[0m         \u001b[0mself\u001b[0m\u001b[0;34m.\u001b[0m\u001b[0mpossible_psi\u001b[0m \u001b[0;34m=\u001b[0m \u001b[0;34m[\u001b[0m\u001b[0mself\u001b[0m\u001b[0;34m.\u001b[0m\u001b[0mmy_bin\u001b[0m\u001b[0;34m(\u001b[0m\u001b[0mi\u001b[0m\u001b[0;34m,\u001b[0m\u001b[0mself\u001b[0m\u001b[0;34m.\u001b[0m\u001b[0mnqubits\u001b[0m\u001b[0;34m)\u001b[0m \u001b[0;32mfor\u001b[0m \u001b[0mi\u001b[0m \u001b[0;32min\u001b[0m \u001b[0mnp\u001b[0m\u001b[0;34m.\u001b[0m\u001b[0marange\u001b[0m\u001b[0;34m(\u001b[0m\u001b[0;36m2\u001b[0m\u001b[0;34m**\u001b[0m\u001b[0mself\u001b[0m\u001b[0;34m.\u001b[0m\u001b[0mnqubits\u001b[0m\u001b[0;34m)\u001b[0m\u001b[0;34m]\u001b[0m\u001b[0;34m\u001b[0m\u001b[0;34m\u001b[0m\u001b[0m\n",
      "\u001b[0;31mAttributeError\u001b[0m: 'int' object has no attribute 'nqubits'"
     ]
    }
   ],
   "source": [
    "for\n",
    "\n",
    "qc.create_psi(3,2)\n",
    "qc.possible_psi"
   ]
  },
  {
   "cell_type": "code",
   "execution_count": 79,
   "metadata": {},
   "outputs": [
    {
     "data": {
      "text/html": [
       "<pre style=\"word-wrap: normal;white-space: pre;background: #fff0;line-height: 1.1;font-family: &quot;Courier New&quot;,Courier,monospace\">       ┌───┐┌───┐     ┌───┐                              ┌─┐   \n",
       "q15_0: ┤ H ├┤ X ├──■──┤ X ├──■─────────■─────────■───────┤M├───\n",
       "       └───┘└───┘┌─┴─┐└───┘  │  ┌───┐  │  ┌───┐  │  ┌───┐└╥┘┌─┐\n",
       "q15_1: ──────────┤ X ├───────┼──┤ H ├──┼──┤ X ├──■──┤ X ├─╫─┤M├\n",
       "                 └───┘       │  └─┬─┘  │  └───┘┌─┴─┐└┬─┬┘ ║ └╥┘\n",
       "q15_2: ──────────────────────┼────┼────┼───────┤ X ├─┤M├──╫──╫─\n",
       "                           ┌─┴─┐  │  ┌─┴─┐     └───┘ └╥┘  ║  ║ \n",
       "aux_0: ────────────────────┤ X ├──■──┤ X ├────────────╫───╫──╫─\n",
       "                           └───┘     └───┘            ║   ║  ║ \n",
       "c15_0: ═══════════════════════════════════════════════╬═══╩══╬═\n",
       "                                                      ║      ║ \n",
       "c15_1: ═══════════════════════════════════════════════╬══════╩═\n",
       "                                                      ║        \n",
       "c15_2: ═══════════════════════════════════════════════╩════════\n",
       "                                                               </pre>"
      ],
      "text/plain": [
       "       ┌───┐┌───┐     ┌───┐                              ┌─┐   \n",
       "q15_0: ┤ H ├┤ X ├──■──┤ X ├──■─────────■─────────■───────┤M├───\n",
       "       └───┘└───┘┌─┴─┐└───┘  │  ┌───┐  │  ┌───┐  │  ┌───┐└╥┘┌─┐\n",
       "q15_1: ──────────┤ X ├───────┼──┤ H ├──┼──┤ X ├──■──┤ X ├─╫─┤M├\n",
       "                 └───┘       │  └─┬─┘  │  └───┘┌─┴─┐└┬─┬┘ ║ └╥┘\n",
       "q15_2: ──────────────────────┼────┼────┼───────┤ X ├─┤M├──╫──╫─\n",
       "                           ┌─┴─┐  │  ┌─┴─┐     └───┘ └╥┘  ║  ║ \n",
       "aux_0: ────────────────────┤ X ├──■──┤ X ├────────────╫───╫──╫─\n",
       "                           └───┘     └───┘            ║   ║  ║ \n",
       "c15_0: ═══════════════════════════════════════════════╬═══╩══╬═\n",
       "                                                      ║      ║ \n",
       "c15_1: ═══════════════════════════════════════════════╬══════╩═\n",
       "                                                      ║        \n",
       "c15_2: ═══════════════════════════════════════════════╩════════\n",
       "                                                               "
      ]
     },
     "execution_count": 79,
     "metadata": {},
     "output_type": "execute_result"
    }
   ],
   "source": [
    "qc.create_qc()\n",
    "qc.qc.draw()"
   ]
  },
  {
   "cell_type": "code",
   "execution_count": 80,
   "metadata": {},
   "outputs": [
    {
     "data": {
      "text/plain": [
       "3"
      ]
     },
     "execution_count": 80,
     "metadata": {},
     "output_type": "execute_result"
    }
   ],
   "source": [
    "qc.nqubits "
   ]
  },
  {
   "cell_type": "code",
   "execution_count": 85,
   "metadata": {},
   "outputs": [
    {
     "data": {
      "image/png": "[encoded data removed]",
      "text/plain": [
       "<Figure size 504x360 with 1 Axes>"
      ]
     },
     "execution_count": 85,
     "metadata": {},
     "output_type": "execute_result"
    }
   ],
   "source": [
    "qc.run_qc()\n",
    "plot_histogram(qc.count)"
   ]
  },
  {
   "cell_type": "code",
   "execution_count": 1,
   "metadata": {},
   "outputs": [],
   "source": [
    "from quantum_logic import *\n",
    "from qiskit.visualization import plot_histogram\n",
    "HORIZ = 0\n",
    "VERT = 1\n",
    "DEFSHOOTS = 5"
   ]
  },
  {
   "cell_type": "code",
   "execution_count": 2,
   "metadata": {},
   "outputs": [],
   "source": []
  },
  {
   "cell_type": "code",
   "execution_count": 2,
   "metadata": {},
   "outputs": [],
   "source": [
    "ships = [\n",
    "        Battleship(shape=3, coordinates=[(3, 3, VERT), (8, 3, VERT)]),\n",
    "        Battleship(shape=3, coordinates=[(4, 3,  HORIZ), (9, 3, HORIZ)]),\n",
    "        Battleship(shape=3, coordinates=[(3, 5, VERT), (15, 4, VERT)]),\n",
    "    ]"
   ]
  },
  {
   "cell_type": "code",
   "execution_count": 10,
   "metadata": {},
   "outputs": [],
   "source": [
    "ships = [\n",
    "        Battleship(shape=3, coordinates=[(1, 1, VERT)]),\n",
    "        Battleship(shape=3, coordinates=[(2, 1,  HORIZ), (6, 1, HORIZ),(9, 1,  HORIZ), (5, 5,  HORIZ)]),\n",
    "        Battleship(shape=4, coordinates=[(4, 5, VERT), (6, 3, VERT)]),\n",
    "    ]"
   ]
  },
  {
   "cell_type": "code",
   "execution_count": 11,
   "metadata": {},
   "outputs": [],
   "source": [
    "qgame = QuantumGame(ships=ships, field_size=30, default_shoots_number=DEFSHOOTS)\n",
    "result = qgame.qubit_sets_from_ships()"
   ]
  },
  {
   "cell_type": "code",
   "execution_count": 12,
   "metadata": {},
   "outputs": [
    {
     "name": "stdout",
     "output_type": "stream",
     "text": [
      "[0, 1, 2]\n"
     ]
    }
   ],
   "source": [
    "print(result[0].ship_ids)"
   ]
  },
  {
   "cell_type": "code",
   "execution_count": 13,
   "metadata": {},
   "outputs": [
    {
     "name": "stdout",
     "output_type": "stream",
     "text": [
      "((0, 0), (1, 0))\n",
      "((1, 1), (2, 1))\n",
      "((1, 2), (2, 1))\n",
      "((1, 3), (2, 0))\n"
     ]
    }
   ],
   "source": [
    "for i in result[0].intersection_ids:\n",
    "    print(i)"
   ]
  },
  {
   "cell_type": "code",
   "execution_count": 14,
   "metadata": {},
   "outputs": [
    {
     "name": "stdout",
     "output_type": "stream",
     "text": [
      "re.compile('[0,1]{0}00[0,1]{1}')\n",
      "re.compile('[0,1]{0}01[0,1]{0}1[0,1]{0}')\n",
      "re.compile('[0,1]{0}10[0,1]{0}1[0,1]{0}')\n",
      "re.compile('[0,1]{0}11[0,1]{0}0[0,1]{0}')\n"
     ]
    },
    {
     "data": {
      "text/html": [
       "<pre style=\"word-wrap: normal;white-space: pre;background: #fff0;line-height: 1.1;font-family: &quot;Courier New&quot;,Courier,monospace\">       ┌───┐┌───┐               ┌───┐┌───┐     ┌───┐          ┌─┐      \n",
       " q1_0: ┤ H ├┤ X ├──■─────────■──┤ X ├┤ X ├──■──┤ X ├──■────■──┤M├──────\n",
       "       └───┘└───┘  │  ┌───┐  │  ├───┤└───┘  │  ├───┤┌─┴─┐  │  └╥┘┌─┐   \n",
       " q1_1: ────────────┼──┤ H ├──┼──┤ X ├───────■──┤ X ├┤ X ├──■───╫─┤M├───\n",
       "                   │  └─┬─┘  │  └───┘     ┌─┴─┐└───┘└───┘┌─┴─┐ ║ └╥┘┌─┐\n",
       " q1_2: ────────────┼────┼────┼────────────┤ X ├──────────┤ X ├─╫──╫─┤M├\n",
       "                 ┌─┴─┐  │  ┌─┴─┐          └───┘          └───┘ ║  ║ └╥┘\n",
       "aux_0: ──────────┤ X ├──■──┤ X ├───────────────────────────────╫──╫──╫─\n",
       "                 └───┘     └───┘                               ║  ║  ║ \n",
       " c1_0: ════════════════════════════════════════════════════════╩══╬══╬═\n",
       "                                                                  ║  ║ \n",
       " c1_1: ═══════════════════════════════════════════════════════════╩══╬═\n",
       "                                                                     ║ \n",
       " c1_2: ══════════════════════════════════════════════════════════════╩═\n",
       "                                                                       </pre>"
      ],
      "text/plain": [
       "       ┌───┐┌───┐               ┌───┐┌───┐     ┌───┐          ┌─┐      \n",
       " q1_0: ┤ H ├┤ X ├──■─────────■──┤ X ├┤ X ├──■──┤ X ├──■────■──┤M├──────\n",
       "       └───┘└───┘  │  ┌───┐  │  ├───┤└───┘  │  ├───┤┌─┴─┐  │  └╥┘┌─┐   \n",
       " q1_1: ────────────┼──┤ H ├──┼──┤ X ├───────■──┤ X ├┤ X ├──■───╫─┤M├───\n",
       "                   │  └─┬─┘  │  └───┘     ┌─┴─┐└───┘└───┘┌─┴─┐ ║ └╥┘┌─┐\n",
       " q1_2: ────────────┼────┼────┼────────────┤ X ├──────────┤ X ├─╫──╫─┤M├\n",
       "                 ┌─┴─┐  │  ┌─┴─┐          └───┘          └───┘ ║  ║ └╥┘\n",
       "aux_0: ──────────┤ X ├──■──┤ X ├───────────────────────────────╫──╫──╫─\n",
       "                 └───┘     └───┘                               ║  ║  ║ \n",
       " c1_0: ════════════════════════════════════════════════════════╩══╬══╬═\n",
       "                                                                  ║  ║ \n",
       " c1_1: ═══════════════════════════════════════════════════════════╩══╬═\n",
       "                                                                     ║ \n",
       " c1_2: ══════════════════════════════════════════════════════════════╩═\n",
       "                                                                       "
      ]
     },
     "execution_count": 14,
     "metadata": {},
     "output_type": "execute_result"
    }
   ],
   "source": [
    "qc = QuantumCircuits()\n",
    "qc.create_psi(ships, result[0])\n",
    "qc.create_qc()\n",
    "qc.qc.draw()"
   ]
  },
  {
   "cell_type": "code",
   "execution_count": 16,
   "metadata": {},
   "outputs": [
    {
     "data": {
      "image/png": "[encoded data removed]",
      "text/plain": [
       "<Figure size 504x360 with 1 Axes>"
      ]
     },
     "execution_count": 16,
     "metadata": {},
     "output_type": "execute_result"
    }
   ],
   "source": [
    "qc.run_qc(10000)\n",
    "plot_histogram(qc.count)"
   ]
  },
  {
   "cell_type": "code",
   "execution_count": 17,
   "metadata": {},
   "outputs": [
    {
     "data": {
      "text/plain": [
       "['010', '100', '111']"
      ]
     },
     "execution_count": 17,
     "metadata": {},
     "output_type": "execute_result"
    }
   ],
   "source": [
    "qc.possible_psi"
   ]
  }
 ],
 "metadata": {
  "kernelspec": {
   "display_name": "Python 3",
   "language": "python",
   "name": "python3"
  },
  "language_info": {
   "codemirror_mode": {
    "name": "ipython",
    "version": 3
   },
   "file_extension": ".py",
   "mimetype": "text/x-python",
   "name": "python",
   "nbconvert_exporter": "python",
   "pygments_lexer": "ipython3",
   "version": "3.6.10"
  }
 },
 "nbformat": 4,
 "nbformat_minor": 4
}
